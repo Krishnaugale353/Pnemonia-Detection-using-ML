{
  "cells": [
    {
      "cell_type": "markdown",
      "metadata": {
        "id": "view-in-github",
        "colab_type": "text"
      },
      "source": [
        "<a href=\"https://colab.research.google.com/github/Krishnaugale353/Pnemonia-Detection-using-ML/blob/main/Pnemonia_Detection.ipynb\" target=\"_parent\"><img src=\"https://colab.research.google.com/assets/colab-badge.svg\" alt=\"Open In Colab\"/></a>"
      ]
    },
    {
      "cell_type": "code",
      "execution_count": 2,
      "metadata": {
        "id": "LunHPDK5AXeL"
      },
      "outputs": [],
      "source": [
        "#!pip install tensorflow-gpu\n"
      ]
    },
    {
      "cell_type": "code",
      "execution_count": 17,
      "metadata": {
        "id": "YO8K5KpukzMH"
      },
      "outputs": [],
      "source": [
        "from keras.models import Model\n",
        "from keras.layers import Flatten,Dense\n",
        "from keras.applications.vgg16 import VGG16\n",
        "import matplotlib.pyplot as plot\n",
        "from glob import glob\n"
      ]
    },
    {
      "cell_type": "code",
      "execution_count": 18,
      "metadata": {
        "id": "AhL19gbfY1a8"
      },
      "outputs": [],
      "source": [
        "IMAGESHAPE = [224, 224, 3]\n",
        "training_data = '/content/drive/MyDrive/chest_xray/train'\n",
        "testing_data = \"/content/drive/MyDrive/chest_xray/test\"\n"
      ]
    },
    {
      "cell_type": "code",
      "execution_count": 19,
      "metadata": {
        "colab": {
          "base_uri": "https://localhost:8080/"
        },
        "id": "c0rxJShbYkVh",
        "outputId": "6ca46f97-679a-447e-bf2e-12d1b5c4cb65"
      },
      "outputs": [
        {
          "output_type": "stream",
          "name": "stdout",
          "text": [
            "Wed Mar  6 05:53:24 2024       \n",
            "+---------------------------------------------------------------------------------------+\n",
            "| NVIDIA-SMI 535.104.05             Driver Version: 535.104.05   CUDA Version: 12.2     |\n",
            "|-----------------------------------------+----------------------+----------------------+\n",
            "| GPU  Name                 Persistence-M | Bus-Id        Disp.A | Volatile Uncorr. ECC |\n",
            "| Fan  Temp   Perf          Pwr:Usage/Cap |         Memory-Usage | GPU-Util  Compute M. |\n",
            "|                                         |                      |               MIG M. |\n",
            "|=========================================+======================+======================|\n",
            "|   0  Tesla T4                       Off | 00000000:00:04.0 Off |                    0 |\n",
            "| N/A   77C    P0              32W /  70W |   6267MiB / 15360MiB |      0%      Default |\n",
            "|                                         |                      |                  N/A |\n",
            "+-----------------------------------------+----------------------+----------------------+\n",
            "                                                                                         \n",
            "+---------------------------------------------------------------------------------------+\n",
            "| Processes:                                                                            |\n",
            "|  GPU   GI   CI        PID   Type   Process name                            GPU Memory |\n",
            "|        ID   ID                                                             Usage      |\n",
            "|=======================================================================================|\n",
            "+---------------------------------------------------------------------------------------+\n"
          ]
        }
      ],
      "source": [
        "!nvidia-smi"
      ]
    },
    {
      "cell_type": "code",
      "execution_count": 19,
      "metadata": {
        "id": "23T-WnUcY239"
      },
      "outputs": [],
      "source": []
    },
    {
      "cell_type": "code",
      "execution_count": 20,
      "metadata": {
        "id": "FK0ec49hjB0Y"
      },
      "outputs": [],
      "source": [
        "vgg_model = VGG16(input_shape=IMAGESHAPE, weights='imagenet', include_top=False)\n"
      ]
    },
    {
      "cell_type": "code",
      "execution_count": 21,
      "metadata": {
        "id": "LZn3LsthjMEz"
      },
      "outputs": [],
      "source": [
        "for each_layer in vgg_model.layers:\n",
        "\teach_layer.trainable = False\n"
      ]
    },
    {
      "cell_type": "code",
      "execution_count": 22,
      "metadata": {
        "id": "2FQIKMkJjN9c"
      },
      "outputs": [],
      "source": [
        "classes = glob('/content/drive/MyDrive/chest_xray/test/*')\n"
      ]
    },
    {
      "cell_type": "code",
      "execution_count": 23,
      "metadata": {
        "id": "5YAgLMvWjgIy"
      },
      "outputs": [],
      "source": [
        "flatten_layer = Flatten()(vgg_model.output)\n",
        "prediction = Dense(len(classes), activation='softmax')(flatten_layer)\n"
      ]
    },
    {
      "cell_type": "code",
      "execution_count": 24,
      "metadata": {
        "colab": {
          "base_uri": "https://localhost:8080/"
        },
        "id": "7Z78HXDujmQT",
        "outputId": "71aa7b15-2831-44ce-a3dd-ea310316c406"
      },
      "outputs": [
        {
          "output_type": "stream",
          "name": "stdout",
          "text": [
            "Model: \"model_1\"\n",
            "_________________________________________________________________\n",
            " Layer (type)                Output Shape              Param #   \n",
            "=================================================================\n",
            " input_2 (InputLayer)        [(None, 224, 224, 3)]     0         \n",
            "                                                                 \n",
            " block1_conv1 (Conv2D)       (None, 224, 224, 64)      1792      \n",
            "                                                                 \n",
            " block1_conv2 (Conv2D)       (None, 224, 224, 64)      36928     \n",
            "                                                                 \n",
            " block1_pool (MaxPooling2D)  (None, 112, 112, 64)      0         \n",
            "                                                                 \n",
            " block2_conv1 (Conv2D)       (None, 112, 112, 128)     73856     \n",
            "                                                                 \n",
            " block2_conv2 (Conv2D)       (None, 112, 112, 128)     147584    \n",
            "                                                                 \n",
            " block2_pool (MaxPooling2D)  (None, 56, 56, 128)       0         \n",
            "                                                                 \n",
            " block3_conv1 (Conv2D)       (None, 56, 56, 256)       295168    \n",
            "                                                                 \n",
            " block3_conv2 (Conv2D)       (None, 56, 56, 256)       590080    \n",
            "                                                                 \n",
            " block3_conv3 (Conv2D)       (None, 56, 56, 256)       590080    \n",
            "                                                                 \n",
            " block3_pool (MaxPooling2D)  (None, 28, 28, 256)       0         \n",
            "                                                                 \n",
            " block4_conv1 (Conv2D)       (None, 28, 28, 512)       1180160   \n",
            "                                                                 \n",
            " block4_conv2 (Conv2D)       (None, 28, 28, 512)       2359808   \n",
            "                                                                 \n",
            " block4_conv3 (Conv2D)       (None, 28, 28, 512)       2359808   \n",
            "                                                                 \n",
            " block4_pool (MaxPooling2D)  (None, 14, 14, 512)       0         \n",
            "                                                                 \n",
            " block5_conv1 (Conv2D)       (None, 14, 14, 512)       2359808   \n",
            "                                                                 \n",
            " block5_conv2 (Conv2D)       (None, 14, 14, 512)       2359808   \n",
            "                                                                 \n",
            " block5_conv3 (Conv2D)       (None, 14, 14, 512)       2359808   \n",
            "                                                                 \n",
            " block5_pool (MaxPooling2D)  (None, 7, 7, 512)         0         \n",
            "                                                                 \n",
            " flatten_1 (Flatten)         (None, 25088)             0         \n",
            "                                                                 \n",
            " dense_1 (Dense)             (None, 2)                 50178     \n",
            "                                                                 \n",
            "=================================================================\n",
            "Total params: 14764866 (56.32 MB)\n",
            "Trainable params: 50178 (196.01 KB)\n",
            "Non-trainable params: 14714688 (56.13 MB)\n",
            "_________________________________________________________________\n"
          ]
        }
      ],
      "source": [
        "final_model = Model(inputs=vgg_model.input, outputs=prediction)\n",
        "final_model.summary()\n"
      ]
    },
    {
      "cell_type": "code",
      "execution_count": 25,
      "metadata": {
        "id": "sPUte9m5jpkN"
      },
      "outputs": [],
      "source": [
        "final_model.compile(\n",
        "loss='categorical_crossentropy',\n",
        "optimizer='adam',\n",
        "metrics=['accuracy']\n",
        ")\n"
      ]
    },
    {
      "cell_type": "code",
      "execution_count": 26,
      "metadata": {
        "id": "acSSeTFojuGH"
      },
      "outputs": [],
      "source": [
        "from keras.preprocessing.image import ImageDataGenerator\n",
        "train_datagen = ImageDataGenerator(rescale = 1./255,\n",
        "\t\t\t\t\t\t\t\tshear_range = 0.2,\n",
        "\t\t\t\t\t\t\t\tzoom_range = 0.2,\n",
        "\t\t\t\t\t\t\t\thorizontal_flip = True)\n",
        "testing_datagen = ImageDataGenerator(rescale =1. / 255)\n"
      ]
    },
    {
      "cell_type": "code",
      "execution_count": 27,
      "metadata": {
        "colab": {
          "base_uri": "https://localhost:8080/"
        },
        "id": "AKkYt-Kdjzzk",
        "outputId": "3f497ba3-5747-4125-d31e-e1e95070b08c"
      },
      "outputs": [
        {
          "output_type": "stream",
          "name": "stdout",
          "text": [
            "Found 5218 images belonging to 2 classes.\n"
          ]
        }
      ],
      "source": [
        "training_set = train_datagen.flow_from_directory('/content/drive/MyDrive/chest_xray/train',\n",
        "\t\t\t\t\t\t\t\t\t\t\t\ttarget_size = (224, 224),\n",
        "\t\t\t\t\t\t\t\t\t\t\t\tbatch_size = 6,\n",
        "\t\t\t\t\t\t\t\t\t\t\t\tclass_mode = 'categorical')\n"
      ]
    },
    {
      "cell_type": "code",
      "execution_count": 28,
      "metadata": {
        "colab": {
          "base_uri": "https://localhost:8080/"
        },
        "id": "XC-cdDytkTon",
        "outputId": "549f4dc9-fdeb-4baf-cc71-8cda7e9b2343"
      },
      "outputs": [
        {
          "output_type": "stream",
          "name": "stdout",
          "text": [
            "Found 624 images belonging to 2 classes.\n"
          ]
        }
      ],
      "source": [
        "test_set = testing_datagen.flow_from_directory('/content/drive/MyDrive/chest_xray/test',\n",
        "\t\t\t\t\t\t\t\t\t\t\ttarget_size = (224, 224),\n",
        "\t\t\t\t\t\t\t\t\t\t\tbatch_size = 6,\n",
        "\t\t\t\t\t\t\t\t\t\t\tclass_mode = 'categorical')\n"
      ]
    },
    {
      "cell_type": "code",
      "execution_count": 29,
      "metadata": {
        "colab": {
          "base_uri": "https://localhost:8080/"
        },
        "id": "6PSrF17PYfnY",
        "outputId": "4f7bc88a-b7c7-44f3-c223-db4d851ed6e8"
      },
      "outputs": [
        {
          "output_type": "stream",
          "name": "stdout",
          "text": [
            "Size of the training dataset: 870\n",
            "Size of the testing dataset: 104\n"
          ]
        }
      ],
      "source": [
        "print(\"Size of the training dataset:\", len(training_set))\n",
        "print(\"Size of the testing dataset:\", len(test_set))"
      ]
    },
    {
      "cell_type": "code",
      "execution_count": 29,
      "metadata": {
        "id": "nlTHEL5DZfGh"
      },
      "outputs": [],
      "source": []
    },
    {
      "cell_type": "code",
      "execution_count": 30,
      "metadata": {
        "colab": {
          "base_uri": "https://localhost:8080/"
        },
        "id": "eXLEkFookpeK",
        "outputId": "6e89d3f1-6c05-4da5-c2a6-694cbe09ac50"
      },
      "outputs": [
        {
          "output_type": "stream",
          "name": "stdout",
          "text": [
            "Epoch 1/5\n"
          ]
        },
        {
          "output_type": "stream",
          "name": "stderr",
          "text": [
            "<ipython-input-30-0133b02f9370>:1: UserWarning: `Model.fit_generator` is deprecated and will be removed in a future version. Please use `Model.fit`, which supports generators.\n",
            "  fitted_model = final_model.fit_generator(\n"
          ]
        },
        {
          "output_type": "stream",
          "name": "stdout",
          "text": [
            "870/870 [==============================] - 525s 603ms/step - loss: 0.2369 - accuracy: 0.9222 - val_loss: 0.7725 - val_accuracy: 0.8606\n",
            "Epoch 2/5\n",
            "870/870 [==============================] - 154s 177ms/step - loss: 0.1788 - accuracy: 0.9504 - val_loss: 0.8245 - val_accuracy: 0.8814\n",
            "Epoch 3/5\n",
            "870/870 [==============================] - 155s 178ms/step - loss: 0.2165 - accuracy: 0.9546 - val_loss: 0.5434 - val_accuracy: 0.9006\n",
            "Epoch 4/5\n",
            "870/870 [==============================] - 154s 177ms/step - loss: 0.2088 - accuracy: 0.9578 - val_loss: 0.8593 - val_accuracy: 0.8846\n",
            "Epoch 5/5\n",
            "870/870 [==============================] - 154s 178ms/step - loss: 0.1827 - accuracy: 0.9561 - val_loss: 0.4674 - val_accuracy: 0.9199\n"
          ]
        }
      ],
      "source": [
        "fitted_model = final_model.fit_generator(\n",
        "training_set,\n",
        "validation_data=test_set,\n",
        "epochs=5,\n",
        "steps_per_epoch=len(training_set),\n",
        "validation_steps=len(test_set)\n",
        ")\n"
      ]
    },
    {
      "cell_type": "code",
      "execution_count": 36,
      "metadata": {
        "colab": {
          "base_uri": "https://localhost:8080/"
        },
        "id": "0aHDZJnvlxHC",
        "outputId": "c81c1460-a8ba-4799-b591-56af04532800"
      },
      "outputs": [
        {
          "output_type": "stream",
          "name": "stderr",
          "text": [
            "/usr/local/lib/python3.10/dist-packages/keras/src/engine/training.py:3103: UserWarning: You are saving your model as an HDF5 file via `model.save()`. This file format is considered legacy. We recommend using instead the native Keras format, e.g. `model.save('my_model.keras')`.\n",
            "  saving_api.save_model(\n"
          ]
        }
      ],
      "source": [
        "final_model.save('/content/drive/MyDrive/chest_xray/our_modell.h5')\n"
      ]
    },
    {
      "cell_type": "code",
      "execution_count": 37,
      "metadata": {
        "colab": {
          "base_uri": "https://localhost:8080/"
        },
        "id": "x9yIaJbYl0_X",
        "outputId": "d79ba411-b8c4-41fc-a549-b0541fbdb474"
      },
      "outputs": [
        {
          "output_type": "stream",
          "name": "stdout",
          "text": [
            "1/1 [==============================] - 0s 230ms/step\n",
            "Person is affected with Pneumonia.\n",
            "Predictions: [[0. 1.]]\n"
          ]
        }
      ],
      "source": [
        "from keras_preprocessing import image\n",
        "from keras.models import load_model\n",
        "from keras.applications.vgg16 import preprocess_input\n",
        "import numpy as np\n",
        "model=load_model('/content/drive/MyDrive/chest_xray/our_modell.h5') #Loading our model\n",
        "img=image.load_img('/content/drive/MyDrive/chest_xray/test/PNEUMONIA/person100_bacteria_475.jpeg',target_size=(224,224))\n",
        "imagee=image.img_to_array(img) #Converting the X-Ray into pixels\n",
        "imagee=np.expand_dims(imagee, axis=0)\n",
        "img_data=preprocess_input(imagee)\n",
        "prediction=model.predict(img_data)\n",
        "if prediction[0][0]>prediction[0][1]: #Printing the prediction of model.\n",
        "\tprint('Person is safe.')\n",
        "else:\n",
        "\tprint('Person is affected with Pneumonia.')\n",
        "print(f'Predictions: {prediction}')\n"
      ]
    },
    {
      "cell_type": "code",
      "execution_count": 38,
      "metadata": {
        "colab": {
          "base_uri": "https://localhost:8080/"
        },
        "id": "Q_s72H9zZglg",
        "outputId": "c6f0d114-df68-4c00-8a5e-47951d7f01dc"
      },
      "outputs": [
        {
          "output_type": "stream",
          "name": "stdout",
          "text": [
            "104/104 [==============================] - 9s 84ms/step - loss: 0.4674 - accuracy: 0.9199\n",
            "Testing Accuracy: 91.99%\n",
            "104/104 [==============================] - 10s 91ms/step\n",
            "\n",
            "Confusion Matrix:\n",
            "[[ 81 153]\n",
            " [139 251]]\n",
            "\n",
            "Classification Report:\n",
            "                                                  precision    recall  f1-score   support\n",
            "\n",
            "   /content/drive/MyDrive/chest_xray/test/NORMAL       0.37      0.35      0.36       234\n",
            "/content/drive/MyDrive/chest_xray/test/PNEUMONIA       0.62      0.64      0.63       390\n",
            "\n",
            "                                        accuracy                           0.53       624\n",
            "                                       macro avg       0.49      0.49      0.49       624\n",
            "                                    weighted avg       0.53      0.53      0.53       624\n",
            "\n"
          ]
        }
      ],
      "source": [
        "from sklearn.metrics import classification_report, confusion_matrix\n",
        "\n",
        "\n",
        "# Evaluate the model on the testing set\n",
        "evaluation = final_model.evaluate(test_set, steps=len(test_set))\n",
        "\n",
        "# Print overall accuracy\n",
        "print(\"Testing Accuracy: {:.2f}%\".format(evaluation[1] * 100))\n",
        "\n",
        "# Make predictions on the test set\n",
        "predictions = final_model.predict(test_set, steps=len(test_set))\n",
        "\n",
        "# Convert predictions to binary values (0 or 1)\n",
        "predicted_classes = np.argmax(predictions, axis=1)\n",
        "\n",
        "# Get true labels\n",
        "true_classes = test_set.classes\n",
        "\n",
        "# Print confusion matrix and classification report\n",
        "conf_matrix = confusion_matrix(true_classes, predicted_classes)\n",
        "classification_rep = classification_report(true_classes, predicted_classes, target_names=classes)\n",
        "\n",
        "print(\"\\nConfusion Matrix:\")\n",
        "print(conf_matrix)\n",
        "\n",
        "print(\"\\nClassification Report:\")\n",
        "print(classification_rep)\n"
      ]
    },
    {
      "cell_type": "code",
      "source": [
        "from sklearn.svm import SVC\n",
        "from sklearn.pipeline import make_pipeline\n",
        "from sklearn.preprocessing import StandardScaler\n",
        "from sklearn.metrics import classification_report, confusion_matrix\n",
        "import numpy as np\n",
        "\n",
        "# Assuming you have the training_set and test_set from your CNN code\n",
        "\n",
        "# Extract images and labels from the training set\n",
        "train_images, train_labels = training_set.next()\n",
        "\n",
        "# Reshape the data\n",
        "train_images_flattened = train_images.reshape(train_images.shape[0], -1)\n",
        "\n",
        "# Create and train the binary SVM model for normal vs. pneumonia\n",
        "svm_model = make_pipeline(StandardScaler(), SVC(kernel='linear', C=2))\n",
        "svm_model.fit(train_images_flattened, np.argmax(train_labels, axis=1))\n",
        "\n",
        "# Evaluate the model on the testing set\n",
        "test_images, test_labels = test_set.next()\n",
        "test_images_flattened = test_images.reshape(test_images.shape[0], -1)\n",
        "\n",
        "predictions_svm = svm_model.predict(test_images_flattened)\n",
        "\n",
        "# Print confusion matrix and classification report for SVM\n",
        "conf_matrix_svm = confusion_matrix(np.argmax(test_labels, axis=1), predictions_svm)\n",
        "classification_rep_svm = classification_report(np.argmax(test_labels, axis=1), predictions_svm)\n",
        "\n",
        "print(\"\\nSVM - Confusion Matrix:\")\n",
        "print(conf_matrix_svm)\n",
        "\n",
        "print(\"\\nSVM - Classification Report:\")\n",
        "print(classification_rep_svm)"
      ],
      "metadata": {
        "colab": {
          "base_uri": "https://localhost:8080/"
        },
        "id": "2DyullRyjvTY",
        "outputId": "69e5f04d-8abe-4405-bded-ec790e921876"
      },
      "execution_count": 35,
      "outputs": [
        {
          "output_type": "stream",
          "name": "stdout",
          "text": [
            "\n",
            "SVM - Confusion Matrix:\n",
            "[[3 0]\n",
            " [1 2]]\n",
            "\n",
            "SVM - Classification Report:\n",
            "              precision    recall  f1-score   support\n",
            "\n",
            "           0       0.75      1.00      0.86         3\n",
            "           1       1.00      0.67      0.80         3\n",
            "\n",
            "    accuracy                           0.83         6\n",
            "   macro avg       0.88      0.83      0.83         6\n",
            "weighted avg       0.88      0.83      0.83         6\n",
            "\n"
          ]
        }
      ]
    },
    {
      "cell_type": "code",
      "source": [],
      "metadata": {
        "id": "3hFFvgtcRkx4"
      },
      "execution_count": null,
      "outputs": []
    },
    {
      "cell_type": "code",
      "source": [],
      "metadata": {
        "id": "LCP8c8IaG_yT"
      },
      "execution_count": null,
      "outputs": []
    },
    {
      "cell_type": "code",
      "source": [
        "from sklearn.svm import SVC\n",
        "from sklearn.pipeline import make_pipeline\n",
        "from sklearn.preprocessing import StandardScaler\n",
        "from sklearn.metrics import classification_report, confusion_matrix\n",
        "import numpy as np\n",
        "from sklearn.model_selection import train_test_split"
      ],
      "metadata": {
        "id": "neYpSiOMMBaO"
      },
      "execution_count": 39,
      "outputs": []
    },
    {
      "cell_type": "code",
      "source": [
        "# Initialize empty lists to store images and labels\n",
        "train_images_flattened = []\n",
        "train_labels = []\n",
        "\n",
        "# Loop through all batches in the training set and extract images and labels\n",
        "for images_batch, labels_batch in training_set:\n",
        "    # Flatten and append images\n",
        "    train_images_flattened.extend(images_batch.reshape(images_batch.shape[0], -1))\n",
        "    # Append labels\n",
        "    train_labels.extend(labels_batch)\n",
        "\n",
        "# Break the loop after iterating through all images\n",
        "if len(train_images_flattened) == len(training_set.filenames):\n",
        "    break"
      ],
      "metadata": {
        "id": "Y99O88u8PHbS"
      },
      "execution_count": null,
      "outputs": []
    },
    {
      "cell_type": "code",
      "source": [
        "# Split data into training and validation sets\n",
        "X_train, X_val, y_train, y_val = train_test_split(train_images_flattened, train_labels, test_size=0.2, random_state=42)\n"
      ],
      "metadata": {
        "id": "i8F1a2RPPLp1"
      },
      "execution_count": null,
      "outputs": []
    },
    {
      "cell_type": "code",
      "source": [
        "# Create and train the binary SVM model for normal vs. pneumonia\n",
        "svm_model = make_pipeline(StandardScaler(), SVC(kernel='linear', C=2))\n",
        "svm_model.fit(X_train, y_train)"
      ],
      "metadata": {
        "id": "LahcAmKYQNaH"
      },
      "execution_count": null,
      "outputs": []
    },
    {
      "cell_type": "code",
      "source": [
        "# Evaluate on the validation set\n",
        "predictions_val = svm_model.predict(X_val)\n",
        "conf_matrix_val = confusion_matrix(y_val, predictions_val)\n",
        "classification_rep_val = classification_report(y_val, predictions_val)\n",
        "\n",
        "print(\"\\nSVM Validation - Confusion Matrix:\")\n",
        "print(conf_matrix_val)\n",
        "\n",
        "print(\"\\nSVM Validation - Classification Report:\")\n",
        "print(classification_rep_val)\n",
        "\n",
        "# Optional: Evaluate on the testing set (if provided)\n",
        "if test_set:\n",
        "    test_images, test_labels = test_set.images, test_set.labels\n",
        "    test_images_flattened = test_images.reshape(test_images.shape[0], -1)\n",
        "    predictions_svm = svm_model.predict(test_images_flattened)\n",
        "\n",
        "    conf_matrix_svm = confusion_matrix(test_labels, predictions_svm)\n",
        "    classification_rep_svm = classification_report(test_labels, predictions_svm)\n",
        "\n",
        "    print(\"\\nSVM - Confusion Matrix:\")\n",
        "    print(conf_matrix_svm)\n",
        "\n",
        "    print(\"\\nSVM - Classification Report:\")\n",
        "    print(classification_rep_svm)"
      ],
      "metadata": {
        "id": "cfUyCcgrQRay"
      },
      "execution_count": null,
      "outputs": []
    },
    {
      "cell_type": "code",
      "source": [],
      "metadata": {
        "id": "MkNTI1fDQV3T"
      },
      "execution_count": null,
      "outputs": []
    }
  ],
  "metadata": {
    "accelerator": "GPU",
    "colab": {
      "provenance": [],
      "gpuType": "T4",
      "include_colab_link": true
    },
    "kernelspec": {
      "display_name": "Python 3",
      "name": "python3"
    },
    "language_info": {
      "name": "python"
    }
  },
  "nbformat": 4,
  "nbformat_minor": 0
}