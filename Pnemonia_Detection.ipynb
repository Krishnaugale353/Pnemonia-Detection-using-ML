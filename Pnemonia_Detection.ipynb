{
  "cells": [
    {
      "cell_type": "markdown",
      "metadata": {
        "id": "view-in-github",
        "colab_type": "text"
      },
      "source": [
        "<a href=\"https://colab.research.google.com/github/Krishnaugale353/Pnemonia-Detection-using-ML/blob/main/Pnemonia_Detection.ipynb\" target=\"_parent\"><img src=\"https://colab.research.google.com/assets/colab-badge.svg\" alt=\"Open In Colab\"/></a>"
      ]
    },
    {
      "cell_type": "code",
      "execution_count": null,
      "metadata": {
        "id": "LunHPDK5AXeL"
      },
      "outputs": [],
      "source": [
        "#!pip install tensorflow-gpu\n"
      ]
    },
    {
      "cell_type": "code",
      "execution_count": 2,
      "metadata": {
        "id": "YO8K5KpukzMH"
      },
      "outputs": [],
      "source": [
        "from keras.models import Model\n",
        "from keras.layers import Flatten,Dense\n",
        "from keras.applications.vgg16 import VGG16\n",
        "import matplotlib.pyplot as plot\n",
        "from glob import glob\n"
      ]
    },
    {
      "cell_type": "code",
      "execution_count": 3,
      "metadata": {
        "id": "AhL19gbfY1a8"
      },
      "outputs": [],
      "source": [
        "IMAGESHAPE = [224, 224, 3]\n",
        "training_data = '/content/drive/MyDrive/chest_xray/train'\n",
        "testing_data = \"/content/drive/MyDrive/chest_xray/test\"\n"
      ]
    },
    {
      "cell_type": "code",
      "execution_count": 4,
      "metadata": {
        "colab": {
          "base_uri": "https://localhost:8080/"
        },
        "id": "c0rxJShbYkVh",
        "outputId": "84f9576f-5dc6-4878-b4db-a48632affc5f"
      },
      "outputs": [
        {
          "output_type": "stream",
          "name": "stdout",
          "text": [
            "Fri Mar  8 13:43:16 2024       \n",
            "+---------------------------------------------------------------------------------------+\n",
            "| NVIDIA-SMI 535.104.05             Driver Version: 535.104.05   CUDA Version: 12.2     |\n",
            "|-----------------------------------------+----------------------+----------------------+\n",
            "| GPU  Name                 Persistence-M | Bus-Id        Disp.A | Volatile Uncorr. ECC |\n",
            "| Fan  Temp   Perf          Pwr:Usage/Cap |         Memory-Usage | GPU-Util  Compute M. |\n",
            "|                                         |                      |               MIG M. |\n",
            "|=========================================+======================+======================|\n",
            "|   0  Tesla T4                       Off | 00000000:00:04.0 Off |                    0 |\n",
            "| N/A   49C    P8              10W /  70W |      0MiB / 15360MiB |      0%      Default |\n",
            "|                                         |                      |                  N/A |\n",
            "+-----------------------------------------+----------------------+----------------------+\n",
            "                                                                                         \n",
            "+---------------------------------------------------------------------------------------+\n",
            "| Processes:                                                                            |\n",
            "|  GPU   GI   CI        PID   Type   Process name                            GPU Memory |\n",
            "|        ID   ID                                                             Usage      |\n",
            "|=======================================================================================|\n",
            "|  No running processes found                                                           |\n",
            "+---------------------------------------------------------------------------------------+\n"
          ]
        }
      ],
      "source": [
        "!nvidia-smi"
      ]
    },
    {
      "cell_type": "code",
      "execution_count": 4,
      "metadata": {
        "id": "23T-WnUcY239"
      },
      "outputs": [],
      "source": []
    },
    {
      "cell_type": "code",
      "execution_count": 5,
      "metadata": {
        "id": "FK0ec49hjB0Y",
        "outputId": "55d80ce7-2ce6-4636-f57c-f402e8452191",
        "colab": {
          "base_uri": "https://localhost:8080/"
        }
      },
      "outputs": [
        {
          "output_type": "stream",
          "name": "stdout",
          "text": [
            "Downloading data from https://storage.googleapis.com/tensorflow/keras-applications/vgg16/vgg16_weights_tf_dim_ordering_tf_kernels_notop.h5\n",
            "58889256/58889256 [==============================] - 0s 0us/step\n"
          ]
        }
      ],
      "source": [
        "vgg_model = VGG16(input_shape=IMAGESHAPE, weights='imagenet', include_top=False)\n"
      ]
    },
    {
      "cell_type": "code",
      "execution_count": 6,
      "metadata": {
        "id": "LZn3LsthjMEz"
      },
      "outputs": [],
      "source": [
        "for each_layer in vgg_model.layers:\n",
        "\teach_layer.trainable = False\n"
      ]
    },
    {
      "cell_type": "code",
      "execution_count": 7,
      "metadata": {
        "id": "2FQIKMkJjN9c"
      },
      "outputs": [],
      "source": [
        "classes = glob('/content/drive/MyDrive/chest_xray/test/*')\n"
      ]
    },
    {
      "cell_type": "code",
      "execution_count": 8,
      "metadata": {
        "id": "5YAgLMvWjgIy"
      },
      "outputs": [],
      "source": [
        "flatten_layer = Flatten()(vgg_model.output)\n",
        "prediction = Dense(len(classes), activation='softmax')(flatten_layer)\n"
      ]
    },
    {
      "cell_type": "code",
      "execution_count": 9,
      "metadata": {
        "colab": {
          "base_uri": "https://localhost:8080/"
        },
        "id": "7Z78HXDujmQT",
        "outputId": "a2c1cdc6-7029-4b7c-e372-3df217426ac1"
      },
      "outputs": [
        {
          "output_type": "stream",
          "name": "stdout",
          "text": [
            "Model: \"model\"\n",
            "_________________________________________________________________\n",
            " Layer (type)                Output Shape              Param #   \n",
            "=================================================================\n",
            " input_1 (InputLayer)        [(None, 224, 224, 3)]     0         \n",
            "                                                                 \n",
            " block1_conv1 (Conv2D)       (None, 224, 224, 64)      1792      \n",
            "                                                                 \n",
            " block1_conv2 (Conv2D)       (None, 224, 224, 64)      36928     \n",
            "                                                                 \n",
            " block1_pool (MaxPooling2D)  (None, 112, 112, 64)      0         \n",
            "                                                                 \n",
            " block2_conv1 (Conv2D)       (None, 112, 112, 128)     73856     \n",
            "                                                                 \n",
            " block2_conv2 (Conv2D)       (None, 112, 112, 128)     147584    \n",
            "                                                                 \n",
            " block2_pool (MaxPooling2D)  (None, 56, 56, 128)       0         \n",
            "                                                                 \n",
            " block3_conv1 (Conv2D)       (None, 56, 56, 256)       295168    \n",
            "                                                                 \n",
            " block3_conv2 (Conv2D)       (None, 56, 56, 256)       590080    \n",
            "                                                                 \n",
            " block3_conv3 (Conv2D)       (None, 56, 56, 256)       590080    \n",
            "                                                                 \n",
            " block3_pool (MaxPooling2D)  (None, 28, 28, 256)       0         \n",
            "                                                                 \n",
            " block4_conv1 (Conv2D)       (None, 28, 28, 512)       1180160   \n",
            "                                                                 \n",
            " block4_conv2 (Conv2D)       (None, 28, 28, 512)       2359808   \n",
            "                                                                 \n",
            " block4_conv3 (Conv2D)       (None, 28, 28, 512)       2359808   \n",
            "                                                                 \n",
            " block4_pool (MaxPooling2D)  (None, 14, 14, 512)       0         \n",
            "                                                                 \n",
            " block5_conv1 (Conv2D)       (None, 14, 14, 512)       2359808   \n",
            "                                                                 \n",
            " block5_conv2 (Conv2D)       (None, 14, 14, 512)       2359808   \n",
            "                                                                 \n",
            " block5_conv3 (Conv2D)       (None, 14, 14, 512)       2359808   \n",
            "                                                                 \n",
            " block5_pool (MaxPooling2D)  (None, 7, 7, 512)         0         \n",
            "                                                                 \n",
            " flatten (Flatten)           (None, 25088)             0         \n",
            "                                                                 \n",
            " dense (Dense)               (None, 2)                 50178     \n",
            "                                                                 \n",
            "=================================================================\n",
            "Total params: 14764866 (56.32 MB)\n",
            "Trainable params: 50178 (196.01 KB)\n",
            "Non-trainable params: 14714688 (56.13 MB)\n",
            "_________________________________________________________________\n"
          ]
        }
      ],
      "source": [
        "final_model = Model(inputs=vgg_model.input, outputs=prediction)\n",
        "final_model.summary()\n"
      ]
    },
    {
      "cell_type": "code",
      "execution_count": 10,
      "metadata": {
        "id": "sPUte9m5jpkN"
      },
      "outputs": [],
      "source": [
        "final_model.compile(\n",
        "loss='categorical_crossentropy',\n",
        "optimizer='adam',\n",
        "metrics=['accuracy']\n",
        ")\n"
      ]
    },
    {
      "cell_type": "code",
      "execution_count": 11,
      "metadata": {
        "id": "acSSeTFojuGH"
      },
      "outputs": [],
      "source": [
        "from keras.preprocessing.image import ImageDataGenerator\n",
        "train_datagen = ImageDataGenerator(rescale = 1./255,\n",
        "\t\t\t\t\t\t\t\tshear_range = 0.2,\n",
        "\t\t\t\t\t\t\t\tzoom_range = 0.2,\n",
        "\t\t\t\t\t\t\t\thorizontal_flip = True)\n",
        "testing_datagen = ImageDataGenerator(rescale =1. / 255)\n"
      ]
    },
    {
      "cell_type": "code",
      "execution_count": 12,
      "metadata": {
        "colab": {
          "base_uri": "https://localhost:8080/"
        },
        "id": "AKkYt-Kdjzzk",
        "outputId": "56b39709-243b-4f65-ad4b-2d01b2f7fc0d"
      },
      "outputs": [
        {
          "output_type": "stream",
          "name": "stdout",
          "text": [
            "Found 5218 images belonging to 2 classes.\n"
          ]
        }
      ],
      "source": [
        "training_set = train_datagen.flow_from_directory('/content/drive/MyDrive/chest_xray/train',\n",
        "\t\t\t\t\t\t\t\t\t\t\t\ttarget_size = (224, 224),\n",
        "\t\t\t\t\t\t\t\t\t\t\t\tbatch_size = 6,\n",
        "\t\t\t\t\t\t\t\t\t\t\t\tclass_mode = 'categorical')\n"
      ]
    },
    {
      "cell_type": "code",
      "execution_count": 13,
      "metadata": {
        "colab": {
          "base_uri": "https://localhost:8080/"
        },
        "id": "XC-cdDytkTon",
        "outputId": "d9a4a594-3321-474f-f7c8-4cfd825c5f97"
      },
      "outputs": [
        {
          "output_type": "stream",
          "name": "stdout",
          "text": [
            "Found 624 images belonging to 2 classes.\n"
          ]
        }
      ],
      "source": [
        "test_set = testing_datagen.flow_from_directory('/content/drive/MyDrive/chest_xray/test',\n",
        "\t\t\t\t\t\t\t\t\t\t\ttarget_size = (224, 224),\n",
        "\t\t\t\t\t\t\t\t\t\t\tbatch_size = 6,\n",
        "\t\t\t\t\t\t\t\t\t\t\tclass_mode = 'categorical')\n"
      ]
    },
    {
      "cell_type": "code",
      "execution_count": 14,
      "metadata": {
        "colab": {
          "base_uri": "https://localhost:8080/"
        },
        "id": "6PSrF17PYfnY",
        "outputId": "ac09b011-b00a-4db7-fdab-10afa3404765"
      },
      "outputs": [
        {
          "output_type": "stream",
          "name": "stdout",
          "text": [
            "Size of the training dataset: 870\n",
            "Size of the testing dataset: 104\n"
          ]
        }
      ],
      "source": [
        "print(\"Size of the training dataset:\", len(training_set))\n",
        "print(\"Size of the testing dataset:\", len(test_set))"
      ]
    },
    {
      "cell_type": "code",
      "execution_count": 14,
      "metadata": {
        "id": "nlTHEL5DZfGh"
      },
      "outputs": [],
      "source": []
    },
    {
      "cell_type": "code",
      "execution_count": 15,
      "metadata": {
        "colab": {
          "base_uri": "https://localhost:8080/"
        },
        "id": "eXLEkFookpeK",
        "outputId": "56506ca0-a88a-4353-de01-4756c982be04"
      },
      "outputs": [
        {
          "output_type": "stream",
          "name": "stderr",
          "text": [
            "<ipython-input-15-0133b02f9370>:1: UserWarning: `Model.fit_generator` is deprecated and will be removed in a future version. Please use `Model.fit`, which supports generators.\n",
            "  fitted_model = final_model.fit_generator(\n"
          ]
        },
        {
          "output_type": "stream",
          "name": "stdout",
          "text": [
            "Epoch 1/5\n",
            "870/870 [==============================] - 767s 873ms/step - loss: 0.2621 - accuracy: 0.9224 - val_loss: 0.4213 - val_accuracy: 0.9071\n",
            "Epoch 2/5\n",
            "870/870 [==============================] - 139s 160ms/step - loss: 0.2324 - accuracy: 0.9437 - val_loss: 0.7915 - val_accuracy: 0.8510\n",
            "Epoch 3/5\n",
            "870/870 [==============================] - 140s 161ms/step - loss: 0.1789 - accuracy: 0.9550 - val_loss: 0.4838 - val_accuracy: 0.9071\n",
            "Epoch 4/5\n",
            "870/870 [==============================] - 137s 158ms/step - loss: 0.2134 - accuracy: 0.9509 - val_loss: 0.8676 - val_accuracy: 0.8846\n",
            "Epoch 5/5\n",
            "870/870 [==============================] - 137s 158ms/step - loss: 0.1417 - accuracy: 0.9649 - val_loss: 0.5539 - val_accuracy: 0.9151\n"
          ]
        }
      ],
      "source": [
        "fitted_model = final_model.fit_generator(\n",
        "training_set,\n",
        "validation_data=test_set,\n",
        "epochs=5,\n",
        "steps_per_epoch=len(training_set),\n",
        "validation_steps=len(test_set)\n",
        ")\n"
      ]
    },
    {
      "cell_type": "code",
      "execution_count": 16,
      "metadata": {
        "colab": {
          "base_uri": "https://localhost:8080/"
        },
        "id": "0aHDZJnvlxHC",
        "outputId": "837a0268-7fcb-4642-8cff-5539daaa0e1b"
      },
      "outputs": [
        {
          "output_type": "stream",
          "name": "stderr",
          "text": [
            "/usr/local/lib/python3.10/dist-packages/keras/src/engine/training.py:3103: UserWarning: You are saving your model as an HDF5 file via `model.save()`. This file format is considered legacy. We recommend using instead the native Keras format, e.g. `model.save('my_model.keras')`.\n",
            "  saving_api.save_model(\n"
          ]
        }
      ],
      "source": [
        "final_model.save('/content/drive/MyDrive/chest_xray/our_modell.h5')\n"
      ]
    },
    {
      "cell_type": "code",
      "source": [
        "!pip install keras_preprocessing"
      ],
      "metadata": {
        "id": "fUDAelvFY0FU",
        "outputId": "7835cf87-4716-47df-ad5d-bf769b3d270c",
        "colab": {
          "base_uri": "https://localhost:8080/"
        }
      },
      "execution_count": 18,
      "outputs": [
        {
          "output_type": "stream",
          "name": "stdout",
          "text": [
            "Collecting keras_preprocessing\n",
            "  Downloading Keras_Preprocessing-1.1.2-py2.py3-none-any.whl (42 kB)\n",
            "\u001b[2K     \u001b[90m━━━━━━━━━━━━━━━━━━━━━━━━━━━━━━━━━━━━━━━━\u001b[0m \u001b[32m42.6/42.6 kB\u001b[0m \u001b[31m655.0 kB/s\u001b[0m eta \u001b[36m0:00:00\u001b[0m\n",
            "\u001b[?25hRequirement already satisfied: numpy>=1.9.1 in /usr/local/lib/python3.10/dist-packages (from keras_preprocessing) (1.25.2)\n",
            "Requirement already satisfied: six>=1.9.0 in /usr/local/lib/python3.10/dist-packages (from keras_preprocessing) (1.16.0)\n",
            "Installing collected packages: keras_preprocessing\n",
            "Successfully installed keras_preprocessing-1.1.2\n"
          ]
        }
      ]
    },
    {
      "cell_type": "code",
      "execution_count": 19,
      "metadata": {
        "colab": {
          "base_uri": "https://localhost:8080/"
        },
        "id": "x9yIaJbYl0_X",
        "outputId": "a6408ecf-4451-4f1d-f538-2c7e8447d5a7"
      },
      "outputs": [
        {
          "output_type": "stream",
          "name": "stdout",
          "text": [
            "1/1 [==============================] - 1s 1s/step\n",
            "Person is safe.\n",
            "Predictions: [[9.9999654e-01 3.4119848e-06]]\n"
          ]
        }
      ],
      "source": [
        "from keras_preprocessing import image\n",
        "from keras.models import load_model\n",
        "from keras.applications.vgg16 import preprocess_input\n",
        "import numpy as np\n",
        "model=load_model('/content/drive/MyDrive/chest_xray/our_modell.h5') #Loading our model\n",
        "img=image.load_img('/content/drive/MyDrive/chest_xray/test/PNEUMONIA/person100_bacteria_475.jpeg',target_size=(224,224))\n",
        "imagee=image.img_to_array(img) #Converting the X-Ray into pixels\n",
        "imagee=np.expand_dims(imagee, axis=0)\n",
        "img_data=preprocess_input(imagee)\n",
        "prediction=model.predict(img_data)\n",
        "if prediction[0][0]>prediction[0][1]: #Printing the prediction of model.\n",
        "\tprint('Person is safe.')\n",
        "else:\n",
        "\tprint('Person is affected with Pneumonia.')\n",
        "print(f'Predictions: {prediction}')\n"
      ]
    },
    {
      "cell_type": "code",
      "execution_count": 20,
      "metadata": {
        "colab": {
          "base_uri": "https://localhost:8080/"
        },
        "id": "Q_s72H9zZglg",
        "outputId": "383ffdfd-6e74-46f9-efe8-bbba9a54e21b"
      },
      "outputs": [
        {
          "output_type": "stream",
          "name": "stdout",
          "text": [
            "104/104 [==============================] - 16s 149ms/step - loss: 0.5539 - accuracy: 0.9151\n",
            "Testing Accuracy: 91.51%\n",
            "104/104 [==============================] - 9s 80ms/step\n",
            "\n",
            "Confusion Matrix:\n",
            "[[ 67 167]\n",
            " [150 240]]\n",
            "\n",
            "Classification Report:\n",
            "                                                  precision    recall  f1-score   support\n",
            "\n",
            "   /content/drive/MyDrive/chest_xray/test/NORMAL       0.31      0.29      0.30       234\n",
            "/content/drive/MyDrive/chest_xray/test/PNEUMONIA       0.59      0.62      0.60       390\n",
            "\n",
            "                                        accuracy                           0.49       624\n",
            "                                       macro avg       0.45      0.45      0.45       624\n",
            "                                    weighted avg       0.48      0.49      0.49       624\n",
            "\n"
          ]
        }
      ],
      "source": [
        "from sklearn.metrics import classification_report, confusion_matrix\n",
        "\n",
        "\n",
        "# Evaluate the model on the testing set\n",
        "evaluation = final_model.evaluate(test_set, steps=len(test_set))\n",
        "\n",
        "# Print overall accuracy\n",
        "print(\"Testing Accuracy: {:.2f}%\".format(evaluation[1] * 100))\n",
        "\n",
        "# Make predictions on the test set\n",
        "predictions = final_model.predict(test_set, steps=len(test_set))\n",
        "\n",
        "# Convert predictions to binary values (0 or 1)\n",
        "predicted_classes = np.argmax(predictions, axis=1)\n",
        "\n",
        "# Get true labels\n",
        "true_classes = test_set.classes\n",
        "\n",
        "# Print confusion matrix and classification report\n",
        "conf_matrix = confusion_matrix(true_classes, predicted_classes)\n",
        "classification_rep = classification_report(true_classes, predicted_classes, target_names=classes)\n",
        "\n",
        "print(\"\\nConfusion Matrix:\")\n",
        "print(conf_matrix)\n",
        "\n",
        "print(\"\\nClassification Report:\")\n",
        "print(classification_rep)\n"
      ]
    },
    {
      "cell_type": "code",
      "source": [
        "import matplotlib.pyplot as plt\n",
        "import seaborn as sns\n",
        "plt.figure(figsize=(8, 6))\n",
        "sns.set(font_scale=1.2)  # Adjust font scale for better readability\n",
        "sns.heatmap(conf_matrix, annot=True, fmt='g', cmap='Blues', cbar=False)\n",
        "plt.xlabel('Predicted labels')\n",
        "plt.ylabel('True labels')\n",
        "plt.title('Confusion Matrix')\n",
        "plt.show()"
      ],
      "metadata": {
        "id": "sx4dYVhGTimu",
        "outputId": "44f9ff1e-cb71-46a2-bd5d-4e9e5dfc29d2",
        "colab": {
          "base_uri": "https://localhost:8080/",
          "height": 578
        }
      },
      "execution_count": 23,
      "outputs": [
        {
          "output_type": "display_data",
          "data": {
            "text/plain": [
              "<Figure size 800x600 with 1 Axes>"
            ],
            "image/png": "[encoded data removed]"
          },
          "metadata": {}
        }
      ]
    },
    {
      "cell_type": "code",
      "source": [
        "import numpy as np\n",
        "from sklearn.metrics import roc_curve, auc\n",
        "import matplotlib.pyplot as plt\n",
        "\n",
        "# Get predicted probabilities for the 'PNEUMONIA' class\n",
        "predicted_probabilities = final_model.predict(test_set, steps=len(test_set))[:, 1]\n",
        "\n",
        "# Get true labels\n",
        "true_labels = test_set.classes\n",
        "\n",
        "# Compute ROC curve and ROC area\n",
        "fpr, tpr, thresholds = roc_curve(true_labels, predicted_probabilities)\n",
        "roc_auc = auc(fpr, tpr)\n",
        "\n",
        "# Plot ROC curve\n",
        "plt.figure()\n",
        "plt.plot(fpr, tpr, color='darkorange', lw=2, label='ROC curve (area = {:.2f})'.format(roc_auc))\n",
        "plt.plot([0, 1], [0, 1], color='navy', lw=2, linestyle='--')\n",
        "plt.xlim([0.0, 1.0])\n",
        "plt.ylim([0.0, 1.05])\n",
        "plt.xlabel('False Positive Rate')\n",
        "plt.ylabel('True Positive Rate')\n",
        "plt.title('Receiver Operating Characteristic (ROC) Curve')\n",
        "plt.legend(loc=\"lower right\")\n",
        "plt.show()\n"
      ],
      "metadata": {
        "id": "hDo0qHDUVZIE",
        "outputId": "f849a48c-833f-4009-8adb-1053dbc1e43e",
        "colab": {
          "base_uri": "https://localhost:8080/",
          "height": 502
        }
      },
      "execution_count": 25,
      "outputs": [
        {
          "output_type": "stream",
          "name": "stdout",
          "text": [
            "104/104 [==============================] - 15s 142ms/step\n"
          ]
        },
        {
          "output_type": "display_data",
          "data": {
            "text/plain": [
              "<Figure size 640x480 with 1 Axes>"
            ],
            "image/png": "[encoded data removed]"
          },
          "metadata": {}
        }
      ]
    },
    {
      "cell_type": "code",
      "source": [],
      "metadata": {
        "id": "Re8A7eR5VZd1"
      },
      "execution_count": null,
      "outputs": []
    },
    {
      "cell_type": "code",
      "source": [
        "from sklearn.svm import SVC\n",
        "from sklearn.pipeline import make_pipeline\n",
        "from sklearn.preprocessing import StandardScaler\n",
        "from sklearn.metrics import classification_report, confusion_matrix\n",
        "import numpy as np\n",
        "\n",
        "# Assuming you have the training_set and test_set from your CNN code\n",
        "\n",
        "# Extract images and labels from the training set\n",
        "train_images, train_labels = training_set.next()\n",
        "\n",
        "# Reshape the data\n",
        "train_images_flattened = train_images.reshape(train_images.shape[0], -1)\n",
        "\n",
        "# Create and train the binary SVM model for normal vs. pneumonia\n",
        "svm_model = make_pipeline(StandardScaler(), SVC(kernel='linear', C=2))\n",
        "svm_model.fit(train_images_flattened, np.argmax(train_labels, axis=1))\n",
        "\n",
        "# Evaluate the model on the testing set\n",
        "test_images, test_labels = test_set.next()\n",
        "test_images_flattened = test_images.reshape(test_images.shape[0], -1)\n",
        "\n",
        "predictions_svm = svm_model.predict(test_images_flattened)\n",
        "\n",
        "# Print confusion matrix and classification report for SVM\n",
        "conf_matrix_svm = confusion_matrix(np.argmax(test_labels, axis=1), predictions_svm)\n",
        "classification_rep_svm = classification_report(np.argmax(test_labels, axis=1), predictions_svm)\n",
        "\n",
        "print(\"\\nSVM - Confusion Matrix:\")\n",
        "print(conf_matrix_svm)\n",
        "\n",
        "print(\"\\nSVM - Classification Report:\")\n",
        "print(classification_rep_svm)"
      ],
      "metadata": {
        "colab": {
          "base_uri": "https://localhost:8080/"
        },
        "id": "2DyullRyjvTY",
        "outputId": "69e5f04d-8abe-4405-bded-ec790e921876"
      },
      "execution_count": null,
      "outputs": [
        {
          "output_type": "stream",
          "name": "stdout",
          "text": [
            "\n",
            "SVM - Confusion Matrix:\n",
            "[[3 0]\n",
            " [1 2]]\n",
            "\n",
            "SVM - Classification Report:\n",
            "              precision    recall  f1-score   support\n",
            "\n",
            "           0       0.75      1.00      0.86         3\n",
            "           1       1.00      0.67      0.80         3\n",
            "\n",
            "    accuracy                           0.83         6\n",
            "   macro avg       0.88      0.83      0.83         6\n",
            "weighted avg       0.88      0.83      0.83         6\n",
            "\n"
          ]
        }
      ]
    },
    {
      "cell_type": "code",
      "source": [],
      "metadata": {
        "id": "3hFFvgtcRkx4"
      },
      "execution_count": null,
      "outputs": []
    },
    {
      "cell_type": "code",
      "source": [],
      "metadata": {
        "id": "LCP8c8IaG_yT"
      },
      "execution_count": null,
      "outputs": []
    },
    {
      "cell_type": "code",
      "source": [
        "from sklearn.svm import SVC\n",
        "from sklearn.pipeline import make_pipeline\n",
        "from sklearn.preprocessing import StandardScaler\n",
        "from sklearn.metrics import classification_report, confusion_matrix\n",
        "import numpy as np\n",
        "from sklearn.model_selection import train_test_split"
      ],
      "metadata": {
        "id": "neYpSiOMMBaO"
      },
      "execution_count": null,
      "outputs": []
    },
    {
      "cell_type": "code",
      "source": [
        "# Initialize empty lists to store images and labels\n",
        "train_images_flattened = []\n",
        "train_labels = []\n",
        "\n",
        "# Loop through all batches in the training set and extract images and labels\n",
        "for images_batch, labels_batch in training_set:\n",
        "    # Flatten and append images\n",
        "    train_images_flattened.extend(images_batch.reshape(images_batch.shape[0], -1))\n",
        "    # Append labels\n",
        "    train_labels.extend(labels_batch)\n",
        "\n",
        "# Break the loop after iterating through all images\n",
        "if len(train_images_flattened) == len(training_set.filenames):\n",
        "    break"
      ],
      "metadata": {
        "id": "Y99O88u8PHbS"
      },
      "execution_count": null,
      "outputs": []
    },
    {
      "cell_type": "code",
      "source": [
        "# Split data into training and validation sets\n",
        "X_train, X_val, y_train, y_val = train_test_split(train_images_flattened, train_labels, test_size=0.2, random_state=42)\n"
      ],
      "metadata": {
        "id": "i8F1a2RPPLp1"
      },
      "execution_count": null,
      "outputs": []
    },
    {
      "cell_type": "code",
      "source": [
        "# Create and train the binary SVM model for normal vs. pneumonia\n",
        "svm_model = make_pipeline(StandardScaler(), SVC(kernel='linear', C=2))\n",
        "svm_model.fit(X_train, y_train)"
      ],
      "metadata": {
        "id": "LahcAmKYQNaH"
      },
      "execution_count": null,
      "outputs": []
    },
    {
      "cell_type": "code",
      "source": [
        "# Evaluate on the validation set\n",
        "predictions_val = svm_model.predict(X_val)\n",
        "conf_matrix_val = confusion_matrix(y_val, predictions_val)\n",
        "classification_rep_val = classification_report(y_val, predictions_val)\n",
        "\n",
        "print(\"\\nSVM Validation - Confusion Matrix:\")\n",
        "print(conf_matrix_val)\n",
        "\n",
        "print(\"\\nSVM Validation - Classification Report:\")\n",
        "print(classification_rep_val)\n",
        "\n",
        "# Optional: Evaluate on the testing set (if provided)\n",
        "if test_set:\n",
        "    test_images, test_labels = test_set.images, test_set.labels\n",
        "    test_images_flattened = test_images.reshape(test_images.shape[0], -1)\n",
        "    predictions_svm = svm_model.predict(test_images_flattened)\n",
        "\n",
        "    conf_matrix_svm = confusion_matrix(test_labels, predictions_svm)\n",
        "    classification_rep_svm = classification_report(test_labels, predictions_svm)\n",
        "\n",
        "    print(\"\\nSVM - Confusion Matrix:\")\n",
        "    print(conf_matrix_svm)\n",
        "\n",
        "    print(\"\\nSVM - Classification Report:\")\n",
        "    print(classification_rep_svm)"
      ],
      "metadata": {
        "id": "cfUyCcgrQRay"
      },
      "execution_count": null,
      "outputs": []
    },
    {
      "cell_type": "code",
      "source": [],
      "metadata": {
        "id": "MkNTI1fDQV3T"
      },
      "execution_count": null,
      "outputs": []
    }
  ],
  "metadata": {
    "accelerator": "GPU",
    "colab": {
      "provenance": [],
      "gpuType": "T4",
      "include_colab_link": true
    },
    "kernelspec": {
      "display_name": "Python 3",
      "name": "python3"
    },
    "language_info": {
      "name": "python"
    }
  },
  "nbformat": 4,
  "nbformat_minor": 0
}